{
 "cells": [
  {
   "cell_type": "markdown",
   "metadata": {
    "application/vnd.databricks.v1+cell": {
     "cellMetadata": {},
     "inputWidgets": {},
     "nuid": "5ddc8df9-b73c-4273-94ca-5de5a40d7ee9",
     "showTitle": false,
     "title": ""
    }
   },
   "source": [
    "\n",
    "## Task\n",
    "\n",
    "### Analyze the given csv file having product_category,sales_amount as columns \n",
    "### find out total number of sales per category\n",
    "### find out avg sales amount for each category"
   ]
  },
  {
   "cell_type": "code",
   "execution_count": null,
   "metadata": {
    "application/vnd.databricks.v1+cell": {
     "cellMetadata": {
      "byteLimit": 2048000,
      "rowLimit": 10000
     },
     "inputWidgets": {},
     "nuid": "5e48ead3-b0ea-48e5-9bef-a0ad2cb05b9f",
     "showTitle": false,
     "title": ""
    }
   },
   "outputs": [
    {
     "data": {
      "application/vnd.databricks.v1+bamboolib_hint": "{\"pd.DataFrames\": [], \"version\": \"0.0.1\"}",
      "text/plain": []
     },
     "metadata": {},
     "output_type": "display_data"
    },
    {
     "data": {
      "text/html": [
       "<div>\n",
       "<style scoped>\n",
       "    .dataframe tbody tr th:only-of-type {\n",
       "        vertical-align: middle;\n",
       "    }\n",
       "\n",
       "    .dataframe tbody tr th {\n",
       "        vertical-align: top;\n",
       "    }\n",
       "\n",
       "    .dataframe thead th {\n",
       "        text-align: right;\n",
       "    }\n",
       "</style>\n",
       "<table border=\"1\" class=\"dataframe\">\n",
       "  <thead>\n",
       "    <tr style=\"text-align: right;\">\n",
       "      <th></th>\n",
       "      <th>product_category</th>\n",
       "      <th>sales_amount</th>\n",
       "    </tr>\n",
       "  </thead>\n",
       "  <tbody>\n",
       "    <tr>\n",
       "      <th>0</th>\n",
       "      <td>Electronics</td>\n",
       "      <td>100</td>\n",
       "    </tr>\n",
       "    <tr>\n",
       "      <th>1</th>\n",
       "      <td>Clothing</td>\n",
       "      <td>50</td>\n",
       "    </tr>\n",
       "    <tr>\n",
       "      <th>2</th>\n",
       "      <td>Electronics</td>\n",
       "      <td>150</td>\n",
       "    </tr>\n",
       "    <tr>\n",
       "      <th>3</th>\n",
       "      <td>Clothing</td>\n",
       "      <td>75</td>\n",
       "    </tr>\n",
       "    <tr>\n",
       "      <th>4</th>\n",
       "      <td>Books</td>\n",
       "      <td>200</td>\n",
       "    </tr>\n",
       "    <tr>\n",
       "      <th>5</th>\n",
       "      <td>Electronics</td>\n",
       "      <td>120</td>\n",
       "    </tr>\n",
       "    <tr>\n",
       "      <th>6</th>\n",
       "      <td>Books</td>\n",
       "      <td>150</td>\n",
       "    </tr>\n",
       "    <tr>\n",
       "      <th>7</th>\n",
       "      <td>Books</td>\n",
       "      <td>80</td>\n",
       "    </tr>\n",
       "    <tr>\n",
       "      <th>8</th>\n",
       "      <td>Clothing</td>\n",
       "      <td>90</td>\n",
       "    </tr>\n",
       "    <tr>\n",
       "      <th>9</th>\n",
       "      <td>Beauty</td>\n",
       "      <td>60</td>\n",
       "    </tr>\n",
       "  </tbody>\n",
       "</table>\n",
       "</div>"
      ]
     },
     "metadata": {
      "application/vnd.databricks.v1+output": {
       "addedWidgets": {},
       "arguments": {},
       "data": "<div>\n<style scoped>\n    .dataframe tbody tr th:only-of-type {\n        vertical-align: middle;\n    }\n\n    .dataframe tbody tr th {\n        vertical-align: top;\n    }\n\n    .dataframe thead th {\n        text-align: right;\n    }\n</style>\n<table border=\"1\" class=\"dataframe\">\n  <thead>\n    <tr style=\"text-align: right;\">\n      <th></th>\n      <th>product_category</th>\n      <th>sales_amount</th>\n    </tr>\n  </thead>\n  <tbody>\n    <tr>\n      <th>0</th>\n      <td>Electronics</td>\n      <td>100</td>\n    </tr>\n    <tr>\n      <th>1</th>\n      <td>Clothing</td>\n      <td>50</td>\n    </tr>\n    <tr>\n      <th>2</th>\n      <td>Electronics</td>\n      <td>150</td>\n    </tr>\n    <tr>\n      <th>3</th>\n      <td>Clothing</td>\n      <td>75</td>\n    </tr>\n    <tr>\n      <th>4</th>\n      <td>Books</td>\n      <td>200</td>\n    </tr>\n    <tr>\n      <th>5</th>\n      <td>Electronics</td>\n      <td>120</td>\n    </tr>\n    <tr>\n      <th>6</th>\n      <td>Books</td>\n      <td>150</td>\n    </tr>\n    <tr>\n      <th>7</th>\n      <td>Books</td>\n      <td>80</td>\n    </tr>\n    <tr>\n      <th>8</th>\n      <td>Clothing</td>\n      <td>90</td>\n    </tr>\n    <tr>\n      <th>9</th>\n      <td>Beauty</td>\n      <td>60</td>\n    </tr>\n  </tbody>\n</table>\n</div>",
       "datasetInfos": [],
       "metadata": {},
       "removedWidgets": [],
       "textData": null,
       "type": "htmlSandbox"
      }
     },
     "output_type": "display_data"
    }
   ],
   "source": [
    "import pandas as pd\n",
    "file_url=\"https://github.com/PavanKumarYarramsetti/spark-practice/blob/main/sales_dataset.csv?raw=true\"\n",
    "df = pd.read_csv(file_url)\n",
    "df.head(10)"
   ]
  },
  {
   "cell_type": "code",
   "execution_count": null,
   "metadata": {
    "application/vnd.databricks.v1+cell": {
     "cellMetadata": {
      "byteLimit": 2048000,
      "rowLimit": 10000
     },
     "inputWidgets": {},
     "nuid": "651cbd80-1c0a-4849-9226-3dd35346a9c2",
     "showTitle": false,
     "title": ""
    }
   },
   "outputs": [
    {
     "name": "stdout",
     "output_type": "stream",
     "text": [
      "+----------------+------------+\n",
      "|product_category|sales_amount|\n",
      "+----------------+------------+\n",
      "|     Electronics|         100|\n",
      "|        Clothing|          50|\n",
      "|     Electronics|         150|\n",
      "|        Clothing|          75|\n",
      "|           Books|         200|\n",
      "|     Electronics|         120|\n",
      "|           Books|         150|\n",
      "|           Books|          80|\n",
      "|        Clothing|          90|\n",
      "|          Beauty|          60|\n",
      "|     Electronics|         180|\n",
      "|           Books|         100|\n",
      "|        Clothing|         120|\n",
      "|          Beauty|          80|\n",
      "|     Electronics|         200|\n",
      "|           Books|         130|\n",
      "|     Electronics|         150|\n",
      "|        Clothing|          90|\n",
      "|          Beauty|          70|\n",
      "|           Books|         110|\n",
      "+----------------+------------+\n",
      "only showing top 20 rows\n",
      "\n"
     ]
    }
   ],
   "source": [
    "df1 = spark.createDataFrame(df)\n",
    "df1.show()"
   ]
  },
  {
   "cell_type": "code",
   "execution_count": null,
   "metadata": {
    "application/vnd.databricks.v1+cell": {
     "cellMetadata": {
      "byteLimit": 2048000,
      "rowLimit": 10000
     },
     "inputWidgets": {},
     "nuid": "066a3bd1-1bd6-448d-8516-66a3cc51bedf",
     "showTitle": false,
     "title": ""
    }
   },
   "outputs": [
    {
     "name": "stdout",
     "output_type": "stream",
     "text": [
      "+----------------+-----+\n",
      "|product_category|count|\n",
      "+----------------+-----+\n",
      "|     Electronics|   21|\n",
      "|        Clothing|   20|\n",
      "|           Books|   20|\n",
      "|          Beauty|   18|\n",
      "+----------------+-----+\n",
      "\n"
     ]
    }
   ],
   "source": [
    "# Sales per category\n",
    "df1.groupBy(\"product_category\").count().show()"
   ]
  },
  {
   "cell_type": "code",
   "execution_count": null,
   "metadata": {
    "application/vnd.databricks.v1+cell": {
     "cellMetadata": {
      "byteLimit": 2048000,
      "rowLimit": 10000
     },
     "inputWidgets": {},
     "nuid": "7c963221-f71c-43b1-b3f2-cf9554367334",
     "showTitle": false,
     "title": ""
    }
   },
   "outputs": [
    {
     "name": "stdout",
     "output_type": "stream",
     "text": [
      "+----------------+-----------------+\n",
      "|product_category|avg(sales_amount)|\n",
      "+----------------+-----------------+\n",
      "|     Electronics|273.3333333333333|\n",
      "|        Clothing|           163.25|\n",
      "|           Books|            203.0|\n",
      "|          Beauty|            145.0|\n",
      "+----------------+-----------------+\n",
      "\n"
     ]
    }
   ],
   "source": [
    "#Avg sales per category\n",
    "from pyspark.sql.functions import avg,sum\n",
    "\n",
    "df1.groupBy(\"product_category\").agg(avg(\"sales_amount\")).show()"
   ]
  },
  {
   "cell_type": "code",
   "execution_count": null,
   "metadata": {
    "application/vnd.databricks.v1+cell": {
     "cellMetadata": {
      "byteLimit": 2048000,
      "rowLimit": 10000
     },
     "inputWidgets": {},
     "nuid": "5f8a1999-1223-48f4-b596-7fcb3de573de",
     "showTitle": false,
     "title": ""
    }
   },
   "outputs": [
    {
     "name": "stdout",
     "output_type": "stream",
     "text": [
      "+----------------+-----------------+\n",
      "|product_category|sum(sales_amount)|\n",
      "+----------------+-----------------+\n",
      "|     Electronics|             5740|\n",
      "|        Clothing|             3265|\n",
      "|           Books|             4060|\n",
      "|          Beauty|             2610|\n",
      "+----------------+-----------------+\n",
      "\n"
     ]
    }
   ],
   "source": [
    "df1.groupBy(\"product_category\").agg(sum(\"sales_amount\")).show()"
   ]
  }
 ],
 "metadata": {
  "application/vnd.databricks.v1+notebook": {
   "dashboards": [],
   "language": "python",
   "notebookMetadata": {
    "pythonIndentUnit": 4
   },
   "notebookName": "Sales_analysis(Basic)",
   "widgets": {}
  },
  "language_info": {
   "name": "python"
  }
 },
 "nbformat": 4,
 "nbformat_minor": 0
}
